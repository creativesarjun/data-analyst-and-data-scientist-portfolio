{
 "cells": [
  {
   "cell_type": "markdown",
   "id": "2b9cc808",
   "metadata": {},
   "source": [
    "# Deep learning with Keras on Iris dataset \n",
    "\n",
    "In this practice project we will build a deep learning model to predict the type of flower with the popular Iris dataset. We will do this using the Keras library."
   ]
  },
  {
   "cell_type": "markdown",
   "id": "7141cfab",
   "metadata": {},
   "source": [
    "## Setup"
   ]
  },
  {
   "cell_type": "code",
   "execution_count": 238,
   "id": "17aae7a8",
   "metadata": {
    "scrolled": true
   },
   "outputs": [
    {
     "name": "stdout",
     "output_type": "stream",
     "text": [
      "Requirement already satisfied: pandas in c:\\users\\creat\\anaconda3\\lib\\site-packages (1.3.4)\n",
      "Requirement already satisfied: python-dateutil>=2.7.3 in c:\\users\\creat\\anaconda3\\lib\\site-packages (from pandas) (2.8.2)\n",
      "Requirement already satisfied: numpy>=1.17.3 in c:\\users\\creat\\anaconda3\\lib\\site-packages (from pandas) (1.20.3)\n",
      "Requirement already satisfied: pytz>=2017.3 in c:\\users\\creat\\anaconda3\\lib\\site-packages (from pandas) (2021.3)\n",
      "Requirement already satisfied: six>=1.5 in c:\\users\\creat\\anaconda3\\lib\\site-packages (from python-dateutil>=2.7.3->pandas) (1.16.0)\n",
      "Requirement already satisfied: tensorflow in c:\\users\\creat\\anaconda3\\lib\\site-packages (2.10.0)\n",
      "Requirement already satisfied: grpcio<2.0,>=1.24.3 in c:\\users\\creat\\anaconda3\\lib\\site-packages (from tensorflow) (1.50.0)\n",
      "Requirement already satisfied: absl-py>=1.0.0 in c:\\users\\creat\\anaconda3\\lib\\site-packages (from tensorflow) (1.3.0)\n",
      "Requirement already satisfied: typing-extensions>=3.6.6 in c:\\users\\creat\\anaconda3\\lib\\site-packages (from tensorflow) (3.10.0.2)\n",
      "Requirement already satisfied: opt-einsum>=2.3.2 in c:\\users\\creat\\anaconda3\\lib\\site-packages (from tensorflow) (3.3.0)\n",
      "Requirement already satisfied: tensorflow-io-gcs-filesystem>=0.23.1 in c:\\users\\creat\\anaconda3\\lib\\site-packages (from tensorflow) (0.27.0)\n",
      "Requirement already satisfied: protobuf<3.20,>=3.9.2 in c:\\users\\creat\\anaconda3\\lib\\site-packages (from tensorflow) (3.19.6)\n",
      "Requirement already satisfied: keras-preprocessing>=1.1.1 in c:\\users\\creat\\anaconda3\\lib\\site-packages (from tensorflow) (1.1.2)\n",
      "Requirement already satisfied: packaging in c:\\users\\creat\\anaconda3\\lib\\site-packages (from tensorflow) (21.0)\n",
      "Requirement already satisfied: tensorflow-estimator<2.11,>=2.10.0 in c:\\users\\creat\\anaconda3\\lib\\site-packages (from tensorflow) (2.10.0)\n",
      "Requirement already satisfied: wrapt>=1.11.0 in c:\\users\\creat\\anaconda3\\lib\\site-packages (from tensorflow) (1.12.1)\n",
      "Requirement already satisfied: google-pasta>=0.1.1 in c:\\users\\creat\\anaconda3\\lib\\site-packages (from tensorflow) (0.2.0)\n",
      "Requirement already satisfied: gast<=0.4.0,>=0.2.1 in c:\\users\\creat\\anaconda3\\lib\\site-packages (from tensorflow) (0.4.0)\n",
      "Requirement already satisfied: setuptools in c:\\users\\creat\\anaconda3\\lib\\site-packages (from tensorflow) (58.0.4)\n",
      "Requirement already satisfied: keras<2.11,>=2.10.0 in c:\\users\\creat\\anaconda3\\lib\\site-packages (from tensorflow) (2.10.0)\n",
      "Requirement already satisfied: flatbuffers>=2.0 in c:\\users\\creat\\anaconda3\\lib\\site-packages (from tensorflow) (22.10.26)\n",
      "Requirement already satisfied: termcolor>=1.1.0 in c:\\users\\creat\\anaconda3\\lib\\site-packages (from tensorflow) (2.1.0)\n",
      "Requirement already satisfied: h5py>=2.9.0 in c:\\users\\creat\\anaconda3\\lib\\site-packages (from tensorflow) (3.2.1)\n",
      "Requirement already satisfied: numpy>=1.20 in c:\\users\\creat\\anaconda3\\lib\\site-packages (from tensorflow) (1.20.3)\n",
      "Requirement already satisfied: astunparse>=1.6.0 in c:\\users\\creat\\anaconda3\\lib\\site-packages (from tensorflow) (1.6.3)\n",
      "Requirement already satisfied: libclang>=13.0.0 in c:\\users\\creat\\anaconda3\\lib\\site-packages (from tensorflow) (14.0.6)\n",
      "Requirement already satisfied: six>=1.12.0 in c:\\users\\creat\\anaconda3\\lib\\site-packages (from tensorflow) (1.16.0)\n",
      "Requirement already satisfied: tensorboard<2.11,>=2.10 in c:\\users\\creat\\anaconda3\\lib\\site-packages (from tensorflow) (2.10.1)\n",
      "Requirement already satisfied: wheel<1.0,>=0.23.0 in c:\\users\\creat\\anaconda3\\lib\\site-packages (from astunparse>=1.6.0->tensorflow) (0.37.0)\n",
      "Requirement already satisfied: requests<3,>=2.21.0 in c:\\users\\creat\\anaconda3\\lib\\site-packages (from tensorboard<2.11,>=2.10->tensorflow) (2.26.0)\n",
      "Requirement already satisfied: werkzeug>=1.0.1 in c:\\users\\creat\\anaconda3\\lib\\site-packages (from tensorboard<2.11,>=2.10->tensorflow) (2.0.2)\n",
      "Requirement already satisfied: google-auth<3,>=1.6.3 in c:\\users\\creat\\anaconda3\\lib\\site-packages (from tensorboard<2.11,>=2.10->tensorflow) (2.14.0)\n",
      "Requirement already satisfied: tensorboard-plugin-wit>=1.6.0 in c:\\users\\creat\\anaconda3\\lib\\site-packages (from tensorboard<2.11,>=2.10->tensorflow) (1.8.1)\n",
      "Requirement already satisfied: markdown>=2.6.8 in c:\\users\\creat\\anaconda3\\lib\\site-packages (from tensorboard<2.11,>=2.10->tensorflow) (3.4.1)\n",
      "Requirement already satisfied: tensorboard-data-server<0.7.0,>=0.6.0 in c:\\users\\creat\\anaconda3\\lib\\site-packages (from tensorboard<2.11,>=2.10->tensorflow) (0.6.1)\n",
      "Requirement already satisfied: google-auth-oauthlib<0.5,>=0.4.1 in c:\\users\\creat\\anaconda3\\lib\\site-packages (from tensorboard<2.11,>=2.10->tensorflow) (0.4.6)\n",
      "Requirement already satisfied: cachetools<6.0,>=2.0.0 in c:\\users\\creat\\anaconda3\\lib\\site-packages (from google-auth<3,>=1.6.3->tensorboard<2.11,>=2.10->tensorflow) (5.2.0)\n",
      "Requirement already satisfied: pyasn1-modules>=0.2.1 in c:\\users\\creat\\anaconda3\\lib\\site-packages (from google-auth<3,>=1.6.3->tensorboard<2.11,>=2.10->tensorflow) (0.2.8)\n",
      "Requirement already satisfied: rsa<5,>=3.1.4 in c:\\users\\creat\\anaconda3\\lib\\site-packages (from google-auth<3,>=1.6.3->tensorboard<2.11,>=2.10->tensorflow) (4.9)\n",
      "Requirement already satisfied: requests-oauthlib>=0.7.0 in c:\\users\\creat\\anaconda3\\lib\\site-packages (from google-auth-oauthlib<0.5,>=0.4.1->tensorboard<2.11,>=2.10->tensorflow) (1.3.1)\n",
      "Requirement already satisfied: importlib-metadata>=4.4 in c:\\users\\creat\\anaconda3\\lib\\site-packages (from markdown>=2.6.8->tensorboard<2.11,>=2.10->tensorflow) (4.8.1)\n",
      "Requirement already satisfied: zipp>=0.5 in c:\\users\\creat\\anaconda3\\lib\\site-packages (from importlib-metadata>=4.4->markdown>=2.6.8->tensorboard<2.11,>=2.10->tensorflow) (3.6.0)\n",
      "Requirement already satisfied: pyasn1<0.5.0,>=0.4.6 in c:\\users\\creat\\anaconda3\\lib\\site-packages (from pyasn1-modules>=0.2.1->google-auth<3,>=1.6.3->tensorboard<2.11,>=2.10->tensorflow) (0.4.8)\n",
      "Requirement already satisfied: urllib3<1.27,>=1.21.1 in c:\\users\\creat\\anaconda3\\lib\\site-packages (from requests<3,>=2.21.0->tensorboard<2.11,>=2.10->tensorflow) (1.26.7)\n",
      "Requirement already satisfied: certifi>=2017.4.17 in c:\\users\\creat\\anaconda3\\lib\\site-packages (from requests<3,>=2.21.0->tensorboard<2.11,>=2.10->tensorflow) (2021.10.8)\n",
      "Requirement already satisfied: charset-normalizer~=2.0.0 in c:\\users\\creat\\anaconda3\\lib\\site-packages (from requests<3,>=2.21.0->tensorboard<2.11,>=2.10->tensorflow) (2.0.4)\n",
      "Requirement already satisfied: idna<4,>=2.5 in c:\\users\\creat\\anaconda3\\lib\\site-packages (from requests<3,>=2.21.0->tensorboard<2.11,>=2.10->tensorflow) (3.2)\n",
      "Requirement already satisfied: oauthlib>=3.0.0 in c:\\users\\creat\\anaconda3\\lib\\site-packages (from requests-oauthlib>=0.7.0->google-auth-oauthlib<0.5,>=0.4.1->tensorboard<2.11,>=2.10->tensorflow) (3.2.2)\n",
      "Requirement already satisfied: pyparsing>=2.0.2 in c:\\users\\creat\\anaconda3\\lib\\site-packages (from packaging->tensorflow) (3.0.4)\n",
      "Requirement already satisfied: sklearn in c:\\users\\creat\\anaconda3\\lib\\site-packages (0.0)\n",
      "Requirement already satisfied: scikit-learn in c:\\users\\creat\\anaconda3\\lib\\site-packages (from sklearn) (0.24.2)\n",
      "Requirement already satisfied: numpy>=1.13.3 in c:\\users\\creat\\anaconda3\\lib\\site-packages (from scikit-learn->sklearn) (1.20.3)\n",
      "Requirement already satisfied: joblib>=0.11 in c:\\users\\creat\\anaconda3\\lib\\site-packages (from scikit-learn->sklearn) (1.1.0)\n",
      "Requirement already satisfied: scipy>=0.19.1 in c:\\users\\creat\\anaconda3\\lib\\site-packages (from scikit-learn->sklearn) (1.7.1)\n",
      "Requirement already satisfied: threadpoolctl>=2.0.0 in c:\\users\\creat\\anaconda3\\lib\\site-packages (from scikit-learn->sklearn) (2.2.0)\n",
      "Requirement already satisfied: matplotlib in c:\\users\\creat\\anaconda3\\lib\\site-packages (3.4.3)\n",
      "Requirement already satisfied: python-dateutil>=2.7 in c:\\users\\creat\\anaconda3\\lib\\site-packages (from matplotlib) (2.8.2)\n",
      "Requirement already satisfied: pyparsing>=2.2.1 in c:\\users\\creat\\anaconda3\\lib\\site-packages (from matplotlib) (3.0.4)\n",
      "Requirement already satisfied: cycler>=0.10 in c:\\users\\creat\\anaconda3\\lib\\site-packages (from matplotlib) (0.10.0)\n",
      "Requirement already satisfied: kiwisolver>=1.0.1 in c:\\users\\creat\\anaconda3\\lib\\site-packages (from matplotlib) (1.3.1)\n",
      "Requirement already satisfied: numpy>=1.16 in c:\\users\\creat\\anaconda3\\lib\\site-packages (from matplotlib) (1.20.3)\n",
      "Requirement already satisfied: pillow>=6.2.0 in c:\\users\\creat\\anaconda3\\lib\\site-packages (from matplotlib) (8.4.0)\n",
      "Requirement already satisfied: six in c:\\users\\creat\\anaconda3\\lib\\site-packages (from cycler>=0.10->matplotlib) (1.16.0)\n"
     ]
    }
   ],
   "source": [
    "#Install related libraries for the project. \n",
    "\n",
    "!pip install pandas\n",
    "!pip install tensorflow\n",
    "!pip install sklearn\n",
    "!pip install matplotlib\n",
    "import pandas as pd\n",
    "import os\n",
    "import tensorflow as tf\n",
    "import numpy as np\n",
    "from sklearn.model_selection import train_test_split\n",
    "from sklearn.preprocessing import StandardScaler\n",
    "from sklearn import preprocessing\n",
    "from tensorflow import keras\n",
    "import matplotlib.pyplot as plt"
   ]
  },
  {
   "cell_type": "markdown",
   "id": "2fabf059",
   "metadata": {},
   "source": [
    "## Prepare Input Data for Deep Learning\n",
    "\n",
    "The input data should be preprocessed and prepared for deep learning before it can be used to train the models. We will perform the following steps for preparing data:\n",
    "\n",
    "1. Load data into a pandas dataframe\n",
    "2. Convert the dataframe to a numpy array\n",
    "3. Separate the feature and target variables \n",
    "4. Scale the feature dataset\n",
    "5. Use one-hot-encoding for the target variable\n",
    "6. Split into training and test datasets\n"
   ]
  },
  {
   "cell_type": "markdown",
   "id": "ca49a1bc",
   "metadata": {},
   "source": [
    "### 1. Load data into a pandas dataframe\n",
    "\n",
    "We first load the iris.csv file in into a pandas dataframe. We then print the contents of the dataframe to check."
   ]
  },
  {
   "cell_type": "code",
   "execution_count": 239,
   "id": "6db4bd81",
   "metadata": {
    "scrolled": false
   },
   "outputs": [
    {
     "name": "stdout",
     "output_type": "stream",
     "text": [
      "\n",
      "Loaded Data :\n",
      "------------------------------------\n",
      "   Sepal.Length  Sepal.Width  Petal.Length  Petal.Width Species\n",
      "0           5.1          3.5           1.4          0.2  setosa\n",
      "1           4.9          3.0           1.4          0.2  setosa\n",
      "2           4.7          3.2           1.3          0.2  setosa\n",
      "3           4.6          3.1           1.5          0.2  setosa\n",
      "4           5.0          3.6           1.4          0.2  setosa\n"
     ]
    }
   ],
   "source": [
    "#Load Data and review content\n",
    "iris_data = pd.read_csv(\"iris.csv\")\n",
    "\n",
    "print(\"\\nLoaded Data :\\n------------------------------------\")\n",
    "print(iris_data.head())"
   ]
  },
  {
   "cell_type": "markdown",
   "id": "469ebac2",
   "metadata": {},
   "source": [
    "The target variable 'Species' is a text field. It needs to be converted to a numeric representation for deep learning. For this, we use a LabelEncoder model based on the species column, and then update the species column with the corresponding encoding."
   ]
  },
  {
   "cell_type": "code",
   "execution_count": 240,
   "id": "3cae010d",
   "metadata": {},
   "outputs": [],
   "source": [
    "#Use a Label encoder to convert String to numeric values \n",
    "#for the target variable\n",
    "\n",
    "label_encoder = preprocessing.LabelEncoder()\n",
    "iris_data['Species'] = label_encoder.fit_transform(\n",
    "                                iris_data['Species'])"
   ]
  },
  {
   "cell_type": "markdown",
   "id": "483075e6",
   "metadata": {},
   "source": [
    " ### 2. Convert the dataframe to a numpy array\n",
    " \n",
    " Now, we convert the dataframe into a NumPy array, which is the preferred input format for Keras deep learning."
   ]
  },
  {
   "cell_type": "code",
   "execution_count": 241,
   "id": "6f50fcac",
   "metadata": {},
   "outputs": [],
   "source": [
    "#Convert input to numpy array\n",
    "np_iris = iris_data.to_numpy()"
   ]
  },
  {
   "cell_type": "markdown",
   "id": "8eba348e",
   "metadata": {},
   "source": [
    "### 3. Separate the feature and target variables"
   ]
  },
  {
   "cell_type": "markdown",
   "id": "ef267bdf",
   "metadata": {},
   "source": [
    "We separate the feature and target variables into different variables, namely X_data and Y_data. X_data has four columns and Y_data has one. We print the feature variables and target variable to check."
   ]
  },
  {
   "cell_type": "code",
   "execution_count": 242,
   "id": "195f9619",
   "metadata": {
    "scrolled": true
   },
   "outputs": [
    {
     "name": "stdout",
     "output_type": "stream",
     "text": [
      "\n",
      "Features before scaling :\n",
      "------------------------------------\n",
      "[[5.1 3.5 1.4 0.2]\n",
      " [4.9 3.  1.4 0.2]\n",
      " [4.7 3.2 1.3 0.2]\n",
      " [4.6 3.1 1.5 0.2]\n",
      " [5.  3.6 1.4 0.2]]\n",
      "\n",
      "Target before scaling :\n",
      "------------------------------------\n",
      "[0. 0. 0. 0. 0.]\n"
     ]
    }
   ],
   "source": [
    "#Separate feature and target variables\n",
    "X_data = np_iris[:,0:4]\n",
    "Y_data=np_iris[:,4]\n",
    "\n",
    "print(\"\\nFeatures before scaling :\\n------------------------------------\")\n",
    "print(X_data[:5,:])\n",
    "print(\"\\nTarget before scaling :\\n------------------------------------\")\n",
    "print(Y_data[:5])"
   ]
  },
  {
   "cell_type": "markdown",
   "id": "9f2357f4",
   "metadata": {},
   "source": [
    "### 4. Scale the feature dataset\n",
    "\n",
    "Since the feature variables are numeric and each column may be on a different scale, we need to standardize the scaling. For this, we create a scaler model on the data in X_data. Then we transform the data in X_data using this model. We will print the features after scaling."
   ]
  },
  {
   "cell_type": "code",
   "execution_count": 243,
   "id": "c57b9cab",
   "metadata": {},
   "outputs": [
    {
     "name": "stdout",
     "output_type": "stream",
     "text": [
      "\n",
      "Features after scaling :\n",
      "------------------------------------\n",
      "[[-0.90068117  1.01900435 -1.34022653 -1.3154443 ]\n",
      " [-1.14301691 -0.13197948 -1.34022653 -1.3154443 ]\n",
      " [-1.38535265  0.32841405 -1.39706395 -1.3154443 ]\n",
      " [-1.50652052  0.09821729 -1.2833891  -1.3154443 ]\n",
      " [-1.02184904  1.24920112 -1.34022653 -1.3154443 ]]\n"
     ]
    }
   ],
   "source": [
    "#Create a scaler model that is fit on the input data.\n",
    "scaler = StandardScaler().fit(X_data)\n",
    "\n",
    "#Scale the numeric feature variables\n",
    "X_data = scaler.transform(X_data)\n",
    "\n",
    "print(\"\\nFeatures after scaling :\\n------------------------------------\")\n",
    "print(X_data[:5,:])"
   ]
  },
  {
   "cell_type": "markdown",
   "id": "59ca2fc3",
   "metadata": {},
   "source": [
    "### 5. Use one-hot-encoding for the target variable\n",
    "\n",
    "Since the target variables is multi-class, we will use one hot encoding to create three columns with each column representing a species. We will print the features after one hot encoding."
   ]
  },
  {
   "cell_type": "code",
   "execution_count": 244,
   "id": "2ce74f02",
   "metadata": {},
   "outputs": [
    {
     "name": "stdout",
     "output_type": "stream",
     "text": [
      "\n",
      "Target after one-hot-encoding :\n",
      "------------------------------------\n",
      "[[1. 0. 0.]\n",
      " [1. 0. 0.]\n",
      " [1. 0. 0.]\n",
      " [1. 0. 0.]\n",
      " [1. 0. 0.]]\n"
     ]
    }
   ],
   "source": [
    "#Convert target variable as a one-hot-encoding array\n",
    "Y_data = tf.keras.utils.to_categorical(Y_data,3)\n",
    "\n",
    "print(\"\\nTarget after one-hot-encoding :\\n------------------------------------\")\n",
    "print(Y_data[:5,:])"
   ]
  },
  {
   "cell_type": "markdown",
   "id": "d9790ba1",
   "metadata": {},
   "source": [
    "### 6. Split into training and test datasets\n",
    "\n",
    "Finally, we need to split the data set into training and test data sets. 10% of the data set is allocated for testing. We print the dimension of these data sets. Note: we are not splitting for validation as Keras has a feature to create a validation data set from the training data set. "
   ]
  },
  {
   "cell_type": "code",
   "execution_count": 245,
   "id": "b72ce8f5",
   "metadata": {
    "scrolled": true
   },
   "outputs": [
    {
     "name": "stdout",
     "output_type": "stream",
     "text": [
      "\n",
      "Train Test Dimensions:\n",
      "------------------------------------\n",
      "(135, 4) (135, 3) (15, 4) (15, 3)\n"
     ]
    }
   ],
   "source": [
    "#Split training and test data\n",
    "X_train,X_test,Y_train,Y_test = train_test_split( X_data, Y_data, test_size=0.10)\n",
    "\n",
    "print(\"\\nTrain Test Dimensions:\\n------------------------------------\")\n",
    "print(X_train.shape, Y_train.shape, X_test.shape, Y_test.shape)"
   ]
  },
  {
   "cell_type": "markdown",
   "id": "a4a75b03",
   "metadata": {},
   "source": [
    "Now pre-processing is complete and we can see the output. We loaded the data in its raw form. We then converted the features into numeric values of the same scale. The target variable now is one hot encoded with three columns. And finally, we split training and test data."
   ]
  },
  {
   "cell_type": "markdown",
   "id": "8bb5fad2",
   "metadata": {},
   "source": [
    "## Creating a Model\n",
    "\n",
    "Creating a model in Keras requires defining the following, the architecture and hyperparameters for the neural network. Once the model is defined we can train and retrain the model any number of times. \n",
    "\n",
    "1. Number of hidden layers\n",
    "2. Number of nodes in each layer\n",
    "3. Activation functions\n",
    "4. Loss Function & Accuracy measurements"
   ]
  },
  {
   "cell_type": "markdown",
   "id": "f39513ef",
   "metadata": {},
   "source": [
    "Let's define the number of classes in the target variable. We have used one-hot encoding on the target variables before."
   ]
  },
  {
   "cell_type": "code",
   "execution_count": 246,
   "id": "d4a0be90",
   "metadata": {
    "scrolled": true
   },
   "outputs": [],
   "source": [
    "#Number of classes in the target variable\n",
    "NB_CLASSES=3"
   ]
  },
  {
   "cell_type": "markdown",
   "id": "5ec601a7",
   "metadata": {},
   "source": [
    "We now proceed to create a sequential model in Keras."
   ]
  },
  {
   "cell_type": "code",
   "execution_count": 247,
   "id": "292b4e43",
   "metadata": {},
   "outputs": [],
   "source": [
    "#Create a sequencial model in Keras\n",
    "model = tf.keras.models.Sequential()"
   ]
  },
  {
   "cell_type": "markdown",
   "id": "cd8702d2",
   "metadata": {},
   "source": [
    "We now start adding layers to the model. We add the first hidden layer of 128 nodes. This is a number we can experiment with as we improve the model. Then, we define the input shape. Since we know that we have four input variables, we define the same here. We provide a logical name 'Hidden-Layer-1' for the layer and this is helpful in printing information later. We will use rectified linear unit activation for this layer."
   ]
  },
  {
   "cell_type": "code",
   "execution_count": 248,
   "id": "89ed3ea3",
   "metadata": {},
   "outputs": [],
   "source": [
    "#Add the first hidden layer\n",
    "model.add(keras.layers.Dense(128,                    #Number of nodes\n",
    "                             input_shape=(4,),       #Number of input variables\n",
    "                              name='Hidden-Layer-1', #Logical name\n",
    "                              activation='relu'))    #activation function"
   ]
  },
  {
   "cell_type": "markdown",
   "id": "2aa5f3cb",
   "metadata": {},
   "source": [
    "We add another hidden layer, Hidden-Layer-2 which will again have 128 nodes, and activation of relu."
   ]
  },
  {
   "cell_type": "code",
   "execution_count": 249,
   "id": "f17ee3a8",
   "metadata": {},
   "outputs": [],
   "source": [
    "#Add a second hidden layer\n",
    "model.add(keras.layers.Dense(128,\n",
    "                              name='Hidden-Layer-2',\n",
    "                              activation='relu'))\n"
   ]
  },
  {
   "cell_type": "markdown",
   "id": "508cb6ba",
   "metadata": {},
   "source": [
    "Finally, we add the output layer. Here, the number of nodes will be equal to the number of classes in the target variable. We will use softmax activation to predict the probabilities of each class for the input provided."
   ]
  },
  {
   "cell_type": "code",
   "execution_count": 250,
   "id": "428fb300",
   "metadata": {},
   "outputs": [],
   "source": [
    "#Add an output layer with softmax activation\n",
    "model.add(keras.layers.Dense(NB_CLASSES,\n",
    "                             name='Output-Layer',\n",
    "                             activation='softmax'))"
   ]
  },
  {
   "cell_type": "markdown",
   "id": "d0ccff4c",
   "metadata": {},
   "source": [
    "For loss computation, we will use categorical_crossentropy, since this is a multi-class classification model. We will also use accuracy as the metric to measure loss. We will assume default values for the other parameters to compile the model."
   ]
  },
  {
   "cell_type": "code",
   "execution_count": 251,
   "id": "3fedf808",
   "metadata": {},
   "outputs": [],
   "source": [
    "#Compile the model with loss & metrics\n",
    "model.compile(loss='categorical_crossentropy',\n",
    "              metrics=['accuracy'])"
   ]
  },
  {
   "cell_type": "markdown",
   "id": "6eb3867a",
   "metadata": {},
   "source": [
    "Then, we will compile the model.We see the model summary being printed here. It shows each layer and the shape of the output. It also shows the total number of parameters in the model, which are the weights and biases across the two hidden and one output layer."
   ]
  },
  {
   "cell_type": "code",
   "execution_count": 252,
   "id": "3813461f",
   "metadata": {},
   "outputs": [
    {
     "name": "stdout",
     "output_type": "stream",
     "text": [
      "Model: \"sequential_12\"\n",
      "_________________________________________________________________\n",
      " Layer (type)                Output Shape              Param #   \n",
      "=================================================================\n",
      " Hidden-Layer-1 (Dense)      (None, 128)               640       \n",
      "                                                                 \n",
      " Hidden-Layer-2 (Dense)      (None, 128)               16512     \n",
      "                                                                 \n",
      " Output-Layer (Dense)        (None, 3)                 387       \n",
      "                                                                 \n",
      "=================================================================\n",
      "Total params: 17,539\n",
      "Trainable params: 17,539\n",
      "Non-trainable params: 0\n",
      "_________________________________________________________________\n"
     ]
    }
   ],
   "source": [
    "#Print the model meta-data\n",
    "model.summary()"
   ]
  },
  {
   "cell_type": "markdown",
   "id": "95c6677e",
   "metadata": {},
   "source": [
    "## Training and evaluating the Model\n",
    "\n",
    "We have now prepared the input data and created a model. Let's now go ahead and train the model."
   ]
  },
  {
   "cell_type": "markdown",
   "id": "bd4a2337",
   "metadata": {},
   "source": [
    "We set the verbose to one, so Keras will print out details of progress during training."
   ]
  },
  {
   "cell_type": "code",
   "execution_count": 253,
   "id": "df250a44",
   "metadata": {},
   "outputs": [],
   "source": [
    "#Make it verbose so we can see the progress\n",
    "VERBOSE=1"
   ]
  },
  {
   "cell_type": "markdown",
   "id": "2706568c",
   "metadata": {},
   "source": [
    "We then set the hyper parameters for training. These are of course set initially on intuition and then fine tuned on experimentation as we improve the model. We set the batch size to 16, which is in the two power n range. We set the number of epochs to 10. We will use a validation split of 20%. This means that 20% of the training data will be used by Keras for validation after each epoch. Though the recommended percentage of validation is 10, we are using more samples since the total sample size is 150."
   ]
  },
  {
   "cell_type": "code",
   "execution_count": 254,
   "id": "810d4f53",
   "metadata": {},
   "outputs": [],
   "source": [
    "#Setup Hyper Parameters for training\n",
    "\n",
    "#Set Batch size\n",
    "BATCH_SIZE=16\n",
    "#Set number of epochs\n",
    "EPOCHS=10\n",
    "#Set validation split. 20% of the training data will be used for validation\n",
    "#after each epoch\n",
    "VALIDATION_SPLIT=0.2"
   ]
  },
  {
   "cell_type": "markdown",
   "id": "9d36a851",
   "metadata": {},
   "source": [
    "Training a model is straightforward in Keras with a single function call. The model.fit method is used to train and also capture details about the training. The first parameter is the input feature variable followed by the target variable. Then we set values for batch size, epochs, verbose and validation split. This function will initialize the weights and biases, but from gradient descent and store the final weights and biases in the model. It also can expose the history of training as a return value."
   ]
  },
  {
   "cell_type": "code",
   "execution_count": 255,
   "id": "80395709",
   "metadata": {},
   "outputs": [
    {
     "name": "stdout",
     "output_type": "stream",
     "text": [
      "\n",
      "Training Progress:\n",
      "------------------------------------\n",
      "Epoch 1/10\n",
      "7/7 [==============================] - 0s 23ms/step - loss: 0.8697 - accuracy: 0.6667 - val_loss: 0.6669 - val_accuracy: 0.7778\n",
      "Epoch 2/10\n",
      "7/7 [==============================] - 0s 5ms/step - loss: 0.5534 - accuracy: 0.8241 - val_loss: 0.5070 - val_accuracy: 0.8148\n",
      "Epoch 3/10\n",
      "7/7 [==============================] - 0s 6ms/step - loss: 0.4306 - accuracy: 0.8519 - val_loss: 0.4289 - val_accuracy: 0.8148\n",
      "Epoch 4/10\n",
      "7/7 [==============================] - 0s 5ms/step - loss: 0.3628 - accuracy: 0.8519 - val_loss: 0.3715 - val_accuracy: 0.8519\n",
      "Epoch 5/10\n",
      "7/7 [==============================] - 0s 6ms/step - loss: 0.3189 - accuracy: 0.8704 - val_loss: 0.3349 - val_accuracy: 0.8148\n",
      "Epoch 6/10\n",
      "7/7 [==============================] - 0s 5ms/step - loss: 0.2800 - accuracy: 0.8796 - val_loss: 0.3043 - val_accuracy: 0.8148\n",
      "Epoch 7/10\n",
      "7/7 [==============================] - 0s 5ms/step - loss: 0.2559 - accuracy: 0.8981 - val_loss: 0.2904 - val_accuracy: 0.8148\n",
      "Epoch 8/10\n",
      "7/7 [==============================] - 0s 4ms/step - loss: 0.2258 - accuracy: 0.9074 - val_loss: 0.2702 - val_accuracy: 0.8148\n",
      "Epoch 9/10\n",
      "7/7 [==============================] - 0s 8ms/step - loss: 0.2027 - accuracy: 0.9259 - val_loss: 0.2534 - val_accuracy: 0.8148\n",
      "Epoch 10/10\n",
      "7/7 [==============================] - 0s 5ms/step - loss: 0.1875 - accuracy: 0.9352 - val_loss: 0.2443 - val_accuracy: 0.8148\n"
     ]
    }
   ],
   "source": [
    "print(\"\\nTraining Progress:\\n------------------------------------\")\n",
    "\n",
    "#Fit the model. This will perform the entire training cycle, including\n",
    "#forward propagation, loss computation, backward propagation and gradient descent.\n",
    "#Execute for the specified batch sizes and epoch\n",
    "#Perform validation after each epoch \n",
    "history=model.fit(X_train,\n",
    "          Y_train,\n",
    "          batch_size=BATCH_SIZE,\n",
    "          epochs=EPOCHS,\n",
    "          verbose=VERBOSE,\n",
    "          validation_split=VALIDATION_SPLIT)"
   ]
  },
  {
   "cell_type": "markdown",
   "id": "eb1220d0",
   "metadata": {},
   "source": [
    "We use this history and plot the accuracy of in sample predictions against the epochs. Finally, we will evaluate the model against the test data set and print the results."
   ]
  },
  {
   "cell_type": "code",
   "execution_count": 256,
   "id": "1a26aa56",
   "metadata": {},
   "outputs": [
    {
     "name": "stdout",
     "output_type": "stream",
     "text": [
      "\n",
      "Accuracy during Training :\n",
      "------------------------------------\n"
     ]
    },
    {
     "data": {
      "image/png": "[encoded data removed]",
      "text/plain": [
       "<Figure size 576x360 with 1 Axes>"
      ]
     },
     "metadata": {
      "needs_background": "light"
     },
     "output_type": "display_data"
    },
    {
     "name": "stdout",
     "output_type": "stream",
     "text": [
      "\n",
      "Evaluation against Test Dataset :\n",
      "------------------------------------\n",
      "1/1 [==============================] - 0s 14ms/step - loss: 0.2798 - accuracy: 0.9333\n"
     ]
    },
    {
     "data": {
      "text/plain": [
       "[0.27984967827796936, 0.9333333373069763]"
      ]
     },
     "execution_count": 256,
     "metadata": {},
     "output_type": "execute_result"
    }
   ],
   "source": [
    "print(\"\\nAccuracy during Training :\\n------------------------------------\")\n",
    "\n",
    "#Plot accuracy of the model after each epoch.\n",
    "pd.DataFrame(history.history)[\"accuracy\"].plot(figsize=(8, 5))\n",
    "plt.title(\"Accuracy improvements with Epoch\")\n",
    "plt.show()\n",
    "\n",
    "#Evaluate the model against the test dataset and print results\n",
    "print(\"\\nEvaluation against Test Dataset :\\n------------------------------------\")\n",
    "model.evaluate(X_test,Y_test)"
   ]
  },
  {
   "cell_type": "markdown",
   "id": "3c2eaf4c",
   "metadata": {},
   "source": [
    "We see the training progress printed after each epoch. It shows the total amount of time taken, and the last computed by the cost function. It also prints the accuracy of predictions against the in sample dataset. Additionally, it prints the loss and accuracy of predictions against the validation data set. From the plot, we can observe that as the number of epochs increases, the accuracy also increases progressively and reaches about 90%. If accuracy at this point is not acceptable, we can increase the number of epochs and retry. The evaluation against a test dataset also shows an accuracy of 93%."
   ]
  },
  {
   "cell_type": "markdown",
   "id": "55efdff7",
   "metadata": {},
   "source": [
    "## Saving and Loading Models\n",
    "\n",
    "The training and inference environments are usually separate. Models need to be saved after they are validated. They are then loaded into the inference environments for actual prediction.\n",
    "\n",
    "In order to save a model, we use the save method to save the model architecture, parameters and other information to disk. Here we saved the contents to 'iris_save', which is a directory under which the model elements are saved. "
   ]
  },
  {
   "cell_type": "code",
   "execution_count": 257,
   "id": "7434d7cb",
   "metadata": {
    "scrolled": true
   },
   "outputs": [
    {
     "name": "stderr",
     "output_type": "stream",
     "text": [
      "WARNING:absl:Function `_wrapped_model` contains input name(s) Hidden-Layer-1_input with unsupported characters which will be renamed to hidden_layer_1_input in the SavedModel.\n"
     ]
    },
    {
     "name": "stdout",
     "output_type": "stream",
     "text": [
      "INFO:tensorflow:Assets written to: iris_save\\assets\n"
     ]
    },
    {
     "name": "stderr",
     "output_type": "stream",
     "text": [
      "INFO:tensorflow:Assets written to: iris_save\\assets\n"
     ]
    }
   ],
   "source": [
    "#Saving a model\n",
    "    \n",
    "model.save(\"iris_save\")"
   ]
  },
  {
   "cell_type": "markdown",
   "id": "6d197a8a",
   "metadata": {},
   "source": [
    "We can load the model back with the load model function. Once loaded, we can print the summary and check the model."
   ]
  },
  {
   "cell_type": "code",
   "execution_count": 258,
   "id": "548e6d92",
   "metadata": {},
   "outputs": [
    {
     "name": "stdout",
     "output_type": "stream",
     "text": [
      "Model: \"sequential_12\"\n",
      "_________________________________________________________________\n",
      " Layer (type)                Output Shape              Param #   \n",
      "=================================================================\n",
      " Hidden-Layer-1 (Dense)      (None, 128)               640       \n",
      "                                                                 \n",
      " Hidden-Layer-2 (Dense)      (None, 128)               16512     \n",
      "                                                                 \n",
      " Output-Layer (Dense)        (None, 3)                 387       \n",
      "                                                                 \n",
      "=================================================================\n",
      "Total params: 17,539\n",
      "Trainable params: 17,539\n",
      "Non-trainable params: 0\n",
      "_________________________________________________________________\n"
     ]
    }
   ],
   "source": [
    "#Loading a Model \n",
    "loaded_model = keras.models.load_model(\"iris_save\")\n",
    "\n",
    "#Print Model Summary\n",
    "loaded_model.summary()"
   ]
  },
  {
   "cell_type": "markdown",
   "id": "8e51e0ce",
   "metadata": {},
   "source": [
    "We can also explore the contents of Iris save, the model is saved here in binary format with all the format and metadata under the root directory of the files. To copy the model, we need to copy the entire root directory and move it to the destination."
   ]
  },
  {
   "cell_type": "markdown",
   "id": "b6cc6fb5",
   "metadata": {},
   "source": [
    "## Predictions with Deep Learning Models"
   ]
  },
  {
   "cell_type": "markdown",
   "id": "835e991e",
   "metadata": {},
   "source": [
    "Having trained a deep learning model for Iris, let's do some predictions with new data. We start with a prediction input of four feature variables namely; sepal length, sepal width, petal length and Petal width."
   ]
  },
  {
   "cell_type": "code",
   "execution_count": 259,
   "id": "58037d5d",
   "metadata": {},
   "outputs": [],
   "source": [
    "#Raw prediction data\n",
    "prediction_input = [[6.6, 3. , 4.4, 1.4]]"
   ]
  },
  {
   "cell_type": "markdown",
   "id": "2756ffce",
   "metadata": {},
   "source": [
    "The featured variables need to go through the same set of pre-processing that was done during training. We use the same scaler model we built during training to scale the prediction feature variables too."
   ]
  },
  {
   "cell_type": "code",
   "execution_count": 260,
   "id": "dc76d3ca",
   "metadata": {},
   "outputs": [],
   "source": [
    "#Scale prediction data with the same scaling model\n",
    "scaled_input = scaler.transform(prediction_input)"
   ]
  },
  {
   "cell_type": "markdown",
   "id": "6fa6c3b7",
   "metadata": {},
   "source": [
    "Then we use the predict method on the model to predict for the scaled input. The raw prediction results are captured and printed. The result is a list of probabilities of the various classes, as it applies for this input."
   ]
  },
  {
   "cell_type": "code",
   "execution_count": 261,
   "id": "a8397de7",
   "metadata": {},
   "outputs": [
    {
     "name": "stdout",
     "output_type": "stream",
     "text": [
      "1/1 [==============================] - 0s 39ms/step\n",
      "Raw Prediction Output (Probabilities) : [[0.03153917 0.6737354  0.29472545]]\n"
     ]
    }
   ],
   "source": [
    "#Get raw prediction probabilities\n",
    "raw_prediction = model.predict(scaled_input)\n",
    "print(\"Raw Prediction Output (Probabilities) :\" , raw_prediction)"
   ]
  },
  {
   "cell_type": "markdown",
   "id": "742a9d66",
   "metadata": {},
   "source": [
    "We then use the argmax function to get the index of the highest probability. Then we use the same training label encoder to do the reverse transform and get the string for the species name."
   ]
  },
  {
   "cell_type": "code",
   "execution_count": 262,
   "id": "3a00fbdb",
   "metadata": {},
   "outputs": [
    {
     "name": "stdout",
     "output_type": "stream",
     "text": [
      "Prediction is  ['versicolor']\n"
     ]
    }
   ],
   "source": [
    "#Find prediction\n",
    "prediction = np.argmax(raw_prediction)\n",
    "print(\"Prediction is \", label_encoder.inverse_transform([prediction]))"
   ]
  },
  {
   "cell_type": "markdown",
   "id": "a0f37fb8",
   "metadata": {},
   "source": [
    "For the raw output, we see the probabilities for the three classes namely; setosa, versicolor and virginica. The sum of the three probabilities will be one. From the list, versicolor has the highest probability of 65%. Then the inverse transform function will extract the corresponding name which is versicolor."
   ]
  }
 ],
 "metadata": {
  "kernelspec": {
   "display_name": "Python 3 (ipykernel)",
   "language": "python",
   "name": "python3"
  },
  "language_info": {
   "codemirror_mode": {
    "name": "ipython",
    "version": 3
   },
   "file_extension": ".py",
   "mimetype": "text/x-python",
   "name": "python",
   "nbconvert_exporter": "python",
   "pygments_lexer": "ipython3",
   "version": "3.9.7"
  }
 },
 "nbformat": 4,
 "nbformat_minor": 5
}
